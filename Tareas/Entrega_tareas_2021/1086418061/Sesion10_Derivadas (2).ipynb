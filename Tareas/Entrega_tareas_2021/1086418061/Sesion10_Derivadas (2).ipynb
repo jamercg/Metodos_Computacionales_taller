{
 "cells": [
  {
   "cell_type": "code",
   "execution_count": 6,
   "metadata": {
    "id": "P2nPTRL6kOKi"
   },
   "outputs": [],
   "source": [
    " import numpy as np\n",
    "import sympy as sp\n",
    "import scipy as sc\n",
    "import pandas as pd\n",
    "from scipy.misc import derivative\n",
    "from sympy import init_printing\n",
    "import matplotlib.pylab as plt\n",
    "init_printing() "
   ]
  },
  {
   "cell_type": "markdown",
   "metadata": {
    "id": "pBgX4KV08EEw"
   },
   "source": [
    "# Tarea Derivada\n",
    "\n",
    "Los siguientes datos, son datos experimentales de un péndulo simple tomadas a través de una cámara web y procesados con el programa kinovea. Dados los datos en formato csv, se pide  construir un programa que realice lo siguiente: \n",
    "\n",
    "1. Leer el archivo csv a través de un Data Frame de Pandas, las columnas del data frame deberan ser:\n",
    "\n",
    "col=[\"Tiempo[ms]\", \"AnguloDeg\", \"AnguloRad\"]\n",
    "\n",
    "2. Construya una grafica de :\n",
    "plt.plot(df['Tiempo[ms]'], df['AnguloDeg'],\"b-\")\n",
    "\n",
    "¿Qué puede concluir respecto al movimiento del pendulo?\n",
    "\n",
    "\n",
    "3. Calculo la transformada de fourier de los datos obtenidos, para encontrar la frecuencia de oscilacion del sistema, para ello realice lo siguiente:\n",
    "\n",
    "- importe la librerias de scipy fft, fftfreq.\n",
    "- Aplique la transformada de fourier como sigue:\n",
    "\n",
    "```\n",
    "tf = fft(df['AnguloRad'].values)\n",
    "T = 33E-3 #Paso del tiempo\n",
    "N = len(df['Tiempo[ms]'])\n",
    "xf = fftfreq(N, T)[:N//2]\n",
    "\n",
    "plt.plot(xf[1:N//2], np.abs(tf[1:N//2]),\"o-\")\n",
    "plt.ylabel(\"TF\")\n",
    "plt.xlabel(\"Frecuencia\")\n",
    "plt.xlim(0, 2)\n",
    "\n",
    "```\n",
    "\n",
    "-  Para las valores en el eje x y eje y de la anterior gráfica, realice una interpolación. \n",
    "\n",
    "- Encuentra el valor máximo empleando metodos de diferenciación.\n",
    "\n",
    "\n",
    "\n",
    "\n",
    "\n"
   ]
  },
  {
   "cell_type": "code",
   "execution_count": 7,
   "metadata": {
    "id": "YL3BB1w78f3r"
   },
   "outputs": [],
   "source": [
    "import pandas as pd"
   ]
  },
  {
   "cell_type": "code",
   "execution_count": 8,
   "metadata": {
    "id": "TeqNmFGqG3TW"
   },
   "outputs": [],
   "source": [
    "route = \"https://docs.google.com/spreadsheets/d/e/2PACX-1vT8btHZ-A6ChzV5Rx_CQmCzbhO10J7R6LvQAyHx9qOCoCDAL9RJgaGUATf2z5lTMo-SjByvrnaX02Cz/pub?output=csv\"\n",
    "df = pd.read_csv(route,\";\")"
   ]
  },
  {
   "cell_type": "code",
   "execution_count": null,
   "metadata": {
    "id": "OSOiGUoNHDez"
   },
   "outputs": [],
   "source": []
  },
  {
   "cell_type": "code",
   "execution_count": 9,
   "metadata": {
    "id": "e1WzA7aPHFH7"
   },
   "outputs": [],
   "source": [
    "col = [\"Tiempo[ms]\", \"AnguloDeg\", \"AnguloRad\"]\n",
    "#1. Como hacer un rename \n",
    "# https://pandas.pydata.org/pandas-docs/stable/reference/api/pandas.DataFrame.rename.html\n",
    "\n",
    "#2. Como pasar los valores del angulo que son tipo string a float "
   ]
  },
  {
   "cell_type": "code",
   "execution_count": 10,
   "metadata": {
    "colab": {
     "base_uri": "https://localhost:8080/",
     "height": 419
    },
    "id": "tb4CwYCEUifF",
    "outputId": "108c468c-cb60-49b2-ac7c-1ed0cef51ce7"
   },
   "outputs": [
    {
     "data": {
      "text/html": [
       "<div>\n",
       "<style scoped>\n",
       "    .dataframe tbody tr th:only-of-type {\n",
       "        vertical-align: middle;\n",
       "    }\n",
       "\n",
       "    .dataframe tbody tr th {\n",
       "        vertical-align: top;\n",
       "    }\n",
       "\n",
       "    .dataframe thead th {\n",
       "        text-align: right;\n",
       "    }\n",
       "</style>\n",
       "<table border=\"1\" class=\"dataframe\">\n",
       "  <thead>\n",
       "    <tr style=\"text-align: right;\">\n",
       "      <th></th>\n",
       "      <th>Tiempo[ms]</th>\n",
       "      <th>AnguloDeg</th>\n",
       "    </tr>\n",
       "  </thead>\n",
       "  <tbody>\n",
       "    <tr>\n",
       "      <th>0</th>\n",
       "      <td>9</td>\n",
       "      <td>59,289611816406</td>\n",
       "    </tr>\n",
       "    <tr>\n",
       "      <th>1</th>\n",
       "      <td>42</td>\n",
       "      <td>59,9823265075684</td>\n",
       "    </tr>\n",
       "    <tr>\n",
       "      <th>2</th>\n",
       "      <td>75</td>\n",
       "      <td>61,2374534606934</td>\n",
       "    </tr>\n",
       "    <tr>\n",
       "      <th>3</th>\n",
       "      <td>108</td>\n",
       "      <td>63,49247741699</td>\n",
       "    </tr>\n",
       "    <tr>\n",
       "      <th>4</th>\n",
       "      <td>142</td>\n",
       "      <td>65,3887710571289</td>\n",
       "    </tr>\n",
       "    <tr>\n",
       "      <th>...</th>\n",
       "      <td>...</td>\n",
       "      <td>...</td>\n",
       "    </tr>\n",
       "    <tr>\n",
       "      <th>2842</th>\n",
       "      <td>94709</td>\n",
       "      <td>94,9375762939453</td>\n",
       "    </tr>\n",
       "    <tr>\n",
       "      <th>2843</th>\n",
       "      <td>94743</td>\n",
       "      <td>96,479850769043</td>\n",
       "    </tr>\n",
       "    <tr>\n",
       "      <th>2844</th>\n",
       "      <td>94776</td>\n",
       "      <td>97,9406890869141</td>\n",
       "    </tr>\n",
       "    <tr>\n",
       "      <th>2845</th>\n",
       "      <td>94809</td>\n",
       "      <td>99,3180923461914</td>\n",
       "    </tr>\n",
       "    <tr>\n",
       "      <th>2846</th>\n",
       "      <td>94843</td>\n",
       "      <td>100,637817382813</td>\n",
       "    </tr>\n",
       "  </tbody>\n",
       "</table>\n",
       "<p>2847 rows × 2 columns</p>\n",
       "</div>"
      ],
      "text/plain": [
       "      Tiempo[ms]         AnguloDeg\n",
       "0              9   59,289611816406\n",
       "1             42  59,9823265075684\n",
       "2             75  61,2374534606934\n",
       "3            108    63,49247741699\n",
       "4            142  65,3887710571289\n",
       "...          ...               ...\n",
       "2842       94709  94,9375762939453\n",
       "2843       94743   96,479850769043\n",
       "2844       94776  97,9406890869141\n",
       "2845       94809  99,3180923461914\n",
       "2846       94843  100,637817382813\n",
       "\n",
       "[2847 rows x 2 columns]"
      ]
     },
     "execution_count": 10,
     "metadata": {},
     "output_type": "execute_result"
    }
   ],
   "source": [
    "df = df.rename(columns = {'Tiempo (ms)':\"Tiempo[ms]\", 'Ángulo 1,':'AnguloDeg'})\n",
    "df"
   ]
  },
  {
   "cell_type": "code",
   "execution_count": 11,
   "metadata": {
    "colab": {
     "base_uri": "https://localhost:8080/",
     "height": 35
    },
    "id": "-47fs6x8JKtJ",
    "outputId": "a64df4a9-d370-4082-cd5c-590fd7958d82"
   },
   "outputs": [
    {
     "data": {
      "text/plain": [
       "'59,289611816406'"
      ]
     },
     "execution_count": 11,
     "metadata": {},
     "output_type": "execute_result"
    }
   ],
   "source": [
    "valor1=df[\"AnguloDeg\"].values[0]\n",
    "valor1"
   ]
  },
  {
   "cell_type": "code",
   "execution_count": 12,
   "metadata": {
    "colab": {
     "base_uri": "https://localhost:8080/"
    },
    "id": "5V1BqIt4KY8M",
    "outputId": "2387e1e6-9647-49ef-a2af-2770263bab1c"
   },
   "outputs": [
    {
     "data": {
      "text/plain": [
       "array(['59,289611816406', '59,9823265075684', '61,2374534606934', ...,\n",
       "       '97,9406890869141', '99,3180923461914', '100,637817382813'],\n",
       "      dtype=object)"
      ]
     },
     "execution_count": 12,
     "metadata": {},
     "output_type": "execute_result"
    }
   ],
   "source": [
    "a=\"3.0\"\n",
    "(df[\"AnguloDeg\"].values)"
   ]
  },
  {
   "cell_type": "code",
   "execution_count": 13,
   "metadata": {
    "id": "6Nb5IKHXJmz4"
   },
   "outputs": [],
   "source": [
    "valor2 = valor1.replace(\",\", \".\")"
   ]
  },
  {
   "cell_type": "markdown",
   "metadata": {
    "id": "K6YKfPQOJiP9"
   },
   "source": []
  },
  {
   "cell_type": "code",
   "execution_count": 14,
   "metadata": {
    "id": "5lWYAF8PJQn6"
   },
   "outputs": [],
   "source": [
    "#eval_= np.vectorize(eval )\n",
    "#d = eval_(df[\"AnguloDeg\"].str.replace(\",\", \".\"))"
   ]
  },
  {
   "cell_type": "code",
   "execution_count": 15,
   "metadata": {
    "colab": {
     "base_uri": "https://localhost:8080/"
    },
    "id": "k9R-7br8Jy9r",
    "outputId": "64b4a20f-768a-4e3e-927f-f1ceb06541a3"
   },
   "outputs": [],
   "source": [
    "#type(d[0])"
   ]
  },
  {
   "cell_type": "code",
   "execution_count": 16,
   "metadata": {
    "id": "qnC4uNaZKIGz"
   },
   "outputs": [],
   "source": [
    "df[\"AnguloDeg\"] = df[\"AnguloDeg\"].str.replace(\",\", \".\").astype(\"float64\")"
   ]
  },
  {
   "cell_type": "code",
   "execution_count": 17,
   "metadata": {
    "colab": {
     "base_uri": "https://localhost:8080/",
     "height": 248
    },
    "id": "tVfn_E8nLRRN",
    "outputId": "96691f6f-1939-4717-9bf2-7f1c08b45d0a"
   },
   "outputs": [],
   "source": [
    "df[\"AnguloRad\"] = np.deg2rad(df[\"AnguloDeg\"].values )"
   ]
  },
  {
   "cell_type": "code",
   "execution_count": 18,
   "metadata": {
    "colab": {
     "base_uri": "https://localhost:8080/",
     "height": 561
    },
    "id": "xlvt1wQqLRvc",
    "outputId": "87f4fba3-1b6b-4cab-8e4e-e9f5aa544314"
   },
   "outputs": [
    {
     "name": "stdout",
     "output_type": "stream",
     "text": [
      "0      -0.535997\n",
      "1      -0.523907\n",
      "2      -0.502001\n",
      "3      -0.462644\n",
      "4      -0.429547\n",
      "          ...   \n",
      "2842    0.086177\n",
      "2843    0.113095\n",
      "2844    0.138591\n",
      "2845    0.162631\n",
      "2846    0.185665\n",
      "Name: AnguloRad, Length: 2847, dtype: float64\n"
     ]
    }
   ],
   "source": [
    "df[\"AnguloRad\"] = df[\"AnguloRad\"] - np.pi/2\n",
    "print(df[\"AnguloRad\"])"
   ]
  },
  {
   "cell_type": "code",
   "execution_count": 19,
   "metadata": {
    "id": "p9F3PLJALfxh"
   },
   "outputs": [
    {
     "data": {
      "image/png": "[encoded data removed]",
      "text/latex": [
       "$\\displaystyle \\left( 0.0, \\  30000.0\\right)$"
      ],
      "text/plain": [
       "(0.0, 30000.0)"
      ]
     },
     "execution_count": 19,
     "metadata": {},
     "output_type": "execute_result"
    },
    {
     "data": {
      "image/png": "[encoded data removed]",
      "text/plain": [
       "<Figure size 432x288 with 1 Axes>"
      ]
     },
     "metadata": {
      "needs_background": "light"
     },
     "output_type": "display_data"
    }
   ],
   "source": [
    "plt.figure()\n",
    "plt.plot(df[\"Tiempo[ms]\"], df[\"AnguloRad\"], \"r.\")\n",
    "plt.xlim(0, 30000 )"
   ]
  },
  {
   "cell_type": "code",
   "execution_count": 20,
   "metadata": {
    "id": "3Zlw0fsFNo3n"
   },
   "outputs": [],
   "source": [
    "from scipy.fft import fft, fftfreq"
   ]
  },
  {
   "cell_type": "code",
   "execution_count": 21,
   "metadata": {
    "id": "wLgV5RziLn8o",
    "scrolled": false
   },
   "outputs": [
    {
     "data": {
      "image/png": "[encoded data removed]",
      "text/latex": [
       "$\\displaystyle \\left( 0.6, \\  0.75\\right)$"
      ],
      "text/plain": [
       "(0.6, 0.75)"
      ]
     },
     "execution_count": 21,
     "metadata": {},
     "output_type": "execute_result"
    },
    {
     "data": {
      "image/png": "[encoded data removed]",
      "text/plain": [
       "<Figure size 432x288 with 1 Axes>"
      ]
     },
     "metadata": {
      "needs_background": "light"
     },
     "output_type": "display_data"
    }
   ],
   "source": [
    "tf = fft(df['AnguloRad'].values)\n",
    "T = 33E-3 #Paso del tiempo\n",
    "N = len(df['Tiempo[ms]'])\n",
    "xf = fftfreq(N, T)[:N//2]\n",
    "plt.plot(xf[1:N//2], np.abs(tf[1:N//2]),\"o-\")\n",
    "plt.ylabel(\"TF\")\n",
    "plt.xlabel(\"Frecuencia\")\n",
    "plt.xlim(0.6, 0.75)"
   ]
  },
  {
   "cell_type": "code",
   "execution_count": 2,
   "metadata": {
    "id": "JaAjQOvcOC-6"
   },
   "outputs": [],
   "source": [
    "from scipy.interpolate import CubicSpline\n",
    "\n"
   ]
  },
  {
   "cell_type": "code",
   "execution_count": 119,
   "metadata": {
    "id": "UBNzNonNQFBj"
   },
   "outputs": [],
   "source": [
    "cs = CubicSpline(xf[1:N//2], -np.abs(tf[1:N//2]))"
   ]
  },
  {
   "cell_type": "code",
   "execution_count": 18,
   "metadata": {
    "id": "wWMmIjR5SIGN",
    "scrolled": false
   },
   "outputs": [
    {
     "data": {
      "image/png": "[encoded data removed]",
      "text/latex": [
       "$\\displaystyle \\left( 0.25, \\  1.0\\right)$"
      ],
      "text/plain": [
       "(0.25, 1.0)"
      ]
     },
     "execution_count": 18,
     "metadata": {},
     "output_type": "execute_result"
    },
    {
     "data": {
      "image/png": "[encoded data removed]",
      "text/plain": [
       "<Figure size 432x288 with 1 Axes>"
      ]
     },
     "metadata": {
      "needs_background": "light"
     },
     "output_type": "display_data"
    }
   ],
   "source": [
    "plt.plot(xf[1:N//2], -np.abs(tf[1:N//2]),\"r.\")\n",
    "plt.plot(abs(xf[1:N//2]), -abs(cs(xf[1:N//2])),\"b\" ) \n",
    "plt.xlim(0.25, 1)"
   ]
  },
  {
   "cell_type": "code",
   "execution_count": 145,
   "metadata": {},
   "outputs": [],
   "source": [
    "from scipy import misc\n",
    "def derivate(func,x0,**kwargs):\n",
    "    '''\n",
    "    Vectorized replacement of scipy.misc derivative:\n",
    "        from scipy.misc import derivative\n",
    "    For usage check the derivative help, e.g, in jupyter: \n",
    "        from scipy.misc import derivative\n",
    "        derivative?\n",
    "    '''\n",
    "    try:\n",
    "        #x0: can be an array or a list  \n",
    "        nn=np.asarray(x0).shape[0] # force error if float is used \n",
    "        fp=np.vectorize(misc.derivative)\n",
    "    except IndexError:\n",
    "        fp=misc.derivative\n",
    "        \n",
    "    return fp(func,x0,**kwargs)"
   ]
  },
  {
   "cell_type": "code",
   "execution_count": 141,
   "metadata": {},
   "outputs": [],
   "source": [
    "y=np.linspace(0,1,50) #Se ingresan valores de y"
   ]
  },
  {
   "cell_type": "code",
   "execution_count": 142,
   "metadata": {},
   "outputs": [],
   "source": [
    "f=derivate(cs,y,dx=1E-15) #Se deriva la función interpolada.\n"
   ]
  },
  {
   "cell_type": "code",
   "execution_count": 143,
   "metadata": {},
   "outputs": [
    {
     "data": {
      "image/png": "[encoded data removed]",
      "text/latex": [
       "$\\displaystyle 0.673469387755102$"
      ],
      "text/plain": [
       "0.673469387755102"
      ]
     },
     "execution_count": 143,
     "metadata": {},
     "output_type": "execute_result"
    }
   ],
   "source": [
    "b=f.argmax() #Se mira la posición del máximo valor y obtener el punto y\n",
    "i=y[b]  \n",
    "i"
   ]
  },
  {
   "cell_type": "code",
   "execution_count": 144,
   "metadata": {},
   "outputs": [
    {
     "data": {
      "image/png": "[encoded data removed]",
      "text/latex": [
       "$\\displaystyle 407.0143220770761$"
      ],
      "text/plain": [
       "407.0143220770761"
      ]
     },
     "execution_count": 144,
     "metadata": {},
     "output_type": "execute_result"
    }
   ],
   "source": [
    "-cs(i) #Se encuentra el valor máximo usando el y encontrado."
   ]
  },
  {
   "cell_type": "code",
   "execution_count": 57,
   "metadata": {
    "id": "QjLNJf5YSJEb"
   },
   "outputs": [],
   "source": [
    "from scipy import optimize\n"
   ]
  },
  {
   "cell_type": "code",
   "execution_count": 62,
   "metadata": {
    "id": "o0xqzvEySlAI"
   },
   "outputs": [
    {
     "name": "stdout",
     "output_type": "stream",
     "text": [
      "Optimization terminated successfully.\n",
      "         Current function value: -417.867925\n",
      "         Iterations: 2\n",
      "         Function evaluations: 44\n"
     ]
    },
    {
     "data": {
      "text/plain": [
       "<scipy.interpolate._cubic.CubicSpline at 0xfd679d8>"
      ]
     },
     "execution_count": 62,
     "metadata": {},
     "output_type": "execute_result"
    }
   ],
   "source": [
    "cs = CubicSpline(xf[1:N//2], -np.abs(tf[1:N//2]))\n",
    "min = optimize.fmin_powell(cs, 0.2)"
   ]
  },
  {
   "cell_type": "code",
   "execution_count": 59,
   "metadata": {
    "id": "JSp45yTmS-Wb"
   },
   "outputs": [
    {
     "data": {
      "text/plain": [
       "array([417.86792463])"
      ]
     },
     "execution_count": 59,
     "metadata": {},
     "output_type": "execute_result"
    }
   ],
   "source": [
    "abs(cs(min))"
   ]
  },
  {
   "cell_type": "code",
   "execution_count": 60,
   "metadata": {
    "id": "pjE-cevDToGO"
   },
   "outputs": [
    {
     "data": {
      "text/plain": [
       "array([0.67156])"
      ]
     },
     "execution_count": 60,
     "metadata": {},
     "output_type": "execute_result"
    }
   ],
   "source": [
    "min"
   ]
  },
  {
   "cell_type": "code",
   "execution_count": 61,
   "metadata": {
    "id": "s4_3FOfOTu-W"
   },
   "outputs": [
    {
     "data": {
      "text/plain": [
       "array(-417.86792463)"
      ]
     },
     "execution_count": 61,
     "metadata": {},
     "output_type": "execute_result"
    }
   ],
   "source": [
    "cs(0.67156)"
   ]
  },
  {
   "cell_type": "code",
   "execution_count": null,
   "metadata": {},
   "outputs": [],
   "source": []
  }
 ],
 "metadata": {
  "colab": {
   "collapsed_sections": [],
   "name": "Sesion10_Derivadas.ipynb",
   "provenance": []
  },
  "kernelspec": {
   "display_name": "Python 3",
   "language": "python",
   "name": "python3"
  }
 },
 "nbformat": 4,
 "nbformat_minor": 1
}
