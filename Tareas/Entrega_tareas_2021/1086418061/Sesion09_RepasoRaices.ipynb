{
 "cells": [
  {
   "cell_type": "markdown",
   "metadata": {
    "id": "iMtlmOQm42xm"
   },
   "source": [
    "# Problemas \n",
    "\n",
    "#1. Area \n",
    "Hallar el área de un segmento circular cuya area sea igual a una cuarta parte del área del circulo. Para la solución se sugiere lo siguiente:\n",
    "\n",
    "a) Encontrar la ecuacion trascendental.\n",
    "\n",
    "b) Con la ecuación anterior, definir una funcion $f(\\theta)=0$. Emplee la funcion labmda de python.\n",
    "\n",
    "c) Construir una data frame de pandas con la columna \"theta\" con 1000 registros(filas) entre $[-2\\pi, 2\\pi]$. Sugerencia, para construir el data frame emplee la función linspace como sigue : np.linspace(-2\\*np.pi, 2\\*np.pi, 1000 )\n",
    "\n",
    "d) Construir una segunda columna titulada \"F_theta\" con los registros f(theta)\n",
    "\n",
    "f) Realice un gráfico de  \"F_theta\" vs \"theta\". Identifique el intervalo de la raiz.\n",
    "\n",
    "Estime el valor del ángulo empleando los siguientes metodos(Emplee  la documentacion):\n",
    "\n",
    "g) [Bisección](https://docs.scipy.org/doc/scipy/reference/generated/scipy.optimize.bisect.html)\n",
    "\n",
    "h) [Newton-Rapshon](https://docs.scipy.org/doc/scipy/reference/generated/scipy.optimize.newton.html)\n",
    "\n",
    "i) [Secante](https://docs.scipy.org/doc/scipy/reference/generated/scipy.optimize.newton.html) \n",
    "\n",
    "j) [Punto Fijo](https://docs.scipy.org/doc/scipy/reference/generated/scipy.optimize.fixed_point.html)\n",
    "\n",
    "\n"
   ]
  },
  {
   "cell_type": "markdown",
   "metadata": {
    "id": "kInCJhnR_V-L"
   },
   "source": [
    "\n",
    "\n",
    "\n",
    "\\begin{equation}\n",
    "A = As - 2\\frac{(r\\cos\\theta/2 )(r\\sin\\theta/2)}{2} \n",
    "\\end{equation}\n",
    "\n",
    "\n",
    ".\n",
    "\n",
    ".\n",
    "\n",
    ".\n",
    "\n",
    "\n",
    "\n",
    "\n",
    "\\begin{equation}\n",
    "\\theta-\\sin \\theta = \\frac{\\pi}{2}\n",
    "\\end{equation}\n",
    "\n",
    "\n",
    "\n",
    "\\begin{equation}\n",
    "f(\\theta)= \\theta- \\sin \\theta - \\frac{\\pi}{2}=0\n",
    "\\end{equation}\n",
    "\n"
   ]
  },
  {
   "cell_type": "code",
   "execution_count": 2,
   "metadata": {
    "id": "0Sflt26CFHVU"
   },
   "outputs": [],
   "source": [
    "import numpy as np\n",
    "import pandas as pd\n",
    "import matplotlib.pylab as plt\n",
    "from scipy import optimize"
   ]
  },
  {
   "cell_type": "code",
   "execution_count": null,
   "metadata": {
    "id": "1rBnaTtP43Zj"
   },
   "outputs": [],
   "source": [
    "f = lambda theta: theta-np.sin(theta)-np.pi/2"
   ]
  },
  {
   "cell_type": "code",
   "execution_count": null,
   "metadata": {
    "id": "o8PhsJJQFFLx"
   },
   "outputs": [],
   "source": [
    "theta = np.linspace(-2*np.pi, 2*np.pi, 1000)\n"
   ]
  },
  {
   "cell_type": "code",
   "execution_count": null,
   "metadata": {
    "id": "aMCwOVDlFpXU"
   },
   "outputs": [],
   "source": [
    "df = pd.DataFrame()\n",
    "\n",
    "df[\"theta\"] = theta\n",
    "df[\"F_theta\"] = f(theta)"
   ]
  },
  {
   "cell_type": "code",
   "execution_count": null,
   "metadata": {
    "colab": {
     "base_uri": "https://localhost:8080/",
     "height": 281
    },
    "executionInfo": {
     "elapsed": 492,
     "status": "ok",
     "timestamp": 1629059873915,
     "user": {
      "displayName": "JHON WILLINGTON LÓPEZ SEPULVEDA",
      "photoUrl": "",
      "userId": "16091744401361911024"
     },
     "user_tz": 300
    },
    "id": "p9Al6-A0FzyW",
    "outputId": "38813ff8-2818-46f4-b31c-d6ccca89686a"
   },
   "outputs": [
    {
     "data": {
      "image/png": "[encoded data removed]",
      "text/plain": [
       "<Figure size 432x288 with 1 Axes>"
      ]
     },
     "metadata": {
      "needs_background": "light",
      "tags": []
     },
     "output_type": "display_data"
    }
   ],
   "source": [
    "plt.figure()\n",
    "plt.plot(df[\"theta\"], df[\"F_theta\"] )\n",
    "plt.xlabel(\"$\\\\theta$\")\n",
    "plt.ylabel(\"$f(\\\\theta)$\")\n",
    "plt.grid()\n",
    "plt.show()"
   ]
  },
  {
   "cell_type": "code",
   "execution_count": null,
   "metadata": {
    "colab": {
     "base_uri": "https://localhost:8080/"
    },
    "executionInfo": {
     "elapsed": 4,
     "status": "ok",
     "timestamp": 1629059874645,
     "user": {
      "displayName": "JHON WILLINGTON LÓPEZ SEPULVEDA",
      "photoUrl": "",
      "userId": "16091744401361911024"
     },
     "user_tz": 300
    },
    "id": "VX9-aicdHT8D",
    "outputId": "85e11ea0-dc74-41a2-9529-c3dc43f660b2"
   },
   "outputs": [
    {
     "name": "stdout",
     "output_type": "stream",
     "text": [
      "EL ángulo es: 2.3099 \n"
     ]
    }
   ],
   "source": [
    "root = optimize.bisect(f, 0, 4)\n",
    "print(f\"EL ángulo es: {root:.5} \")"
   ]
  },
  {
   "cell_type": "code",
   "execution_count": null,
   "metadata": {
    "colab": {
     "base_uri": "https://localhost:8080/"
    },
    "executionInfo": {
     "elapsed": 2,
     "status": "ok",
     "timestamp": 1629059875812,
     "user": {
      "displayName": "JHON WILLINGTON LÓPEZ SEPULVEDA",
      "photoUrl": "",
      "userId": "16091744401361911024"
     },
     "user_tz": 300
    },
    "id": "s2EoIUruICxq",
    "outputId": "b0a42f2f-46ef-4607-d8d2-97b09dbfb4d9"
   },
   "outputs": [
    {
     "data": {
      "text/plain": [
       "132.3464588341314"
      ]
     },
     "execution_count": 8,
     "metadata": {
      "tags": []
     },
     "output_type": "execute_result"
    }
   ],
   "source": [
    "np.rad2deg(root)"
   ]
  },
  {
   "cell_type": "markdown",
   "metadata": {
    "id": "AqZSU8CE46S9"
   },
   "source": [
    "\n",
    "\n",
    "\n",
    "# 2. Movimiento de proyectiles en presencia de viento.\n",
    "\n",
    "Supongamos que un proyectil es lanzado desde el origen con una rapidez $v=vo( \\cos \\theta , \\sin \\theta) $. Supongamos además que el efecto del viento sobre el proyectil es el de una fuerza proporcional a la velocidad relativa entre el viento y el proyectil. Teniendo presente que si $u$ es la velocidad del viento y $\\alpha$ el ángulo que hace dirección de esta velocidad con el eje x, se puede entrontrar las siguientes ecuaciones diferenciales, asociada al estado de movimiento del [proyectil](https://iopscience.iop.org/article/10.1088/0143-0807/36/2/025016/meta):\n",
    "\n",
    "\n",
    "\\begin{equation}\n",
    "m\\frac{dv_x}{dt} = -mb(v_x-u\\cos \\alpha )\n",
    "\\end{equation}\n",
    "\n",
    "\\begin{equation}\n",
    "m\\frac{dv_y}{dt} = -mg-mb(v_x-u\\sin \\alpha ),\n",
    "\\end{equation}\n",
    "\n",
    "donde b es el párametro de rozamiento. La soluciones a las ecuaciones anteriores vienen dadas por:\n",
    "\n",
    "Posición en x\n",
    "\\begin{equation}\n",
    "x=(u\\cos \\alpha) t + \\frac{1}{b} (v_0\\cos \\theta_0 -u \\cos\\alpha)(1-\\mathrm{exp}(-bt))\n",
    "\\end{equation}\n",
    "\n",
    "Posicion en y \n",
    "\\begin{equation}\n",
    "y= \\frac{1}{b}\\left(\\frac{g}{b}+v_0 \\sin \\theta_0 -u\\sin\\alpha \\right)(1-\\mathrm{exp}(-bt))-\\left( \\frac{g}{b}-u\\sin\\alpha\\right)t\n",
    "\\end{equation}\n",
    "\n",
    "Ver imagen:  http://www.sc.ehu.es/sbweb/fisica3/fluidos/viento/parabolico.html\n",
    "\n",
    "\n",
    "0. Establezca las siguietnes condiciones inciales.\n",
    "\n",
    "```\n",
    "#Parametros iniciales\n",
    "\n",
    "v0 = 60 #Velocidad en m/s\n",
    "alpha = np.pi #Angulo del viento\n",
    "theta = np.deg2rad(45) #Angulo de lanzamiento\n",
    "u = v0/2             #rapidez del viento\n",
    "b = 0.05             #Parametro de friccion \n",
    "g = 9.8                #Aceleracion de la gravedad m/s2\n",
    "\n",
    "Params = (alpha, v0, b, u,g)  #Parametros en tupla.\n",
    "\n",
    "```\n",
    "\n",
    "\n",
    "\n",
    "1. Defina dos funciones, una para x y otra para y. \n",
    "\n",
    "```\n",
    "\n",
    "#Posicion en x\n",
    "def pos_x(t, theta, alpha, v0, b, u,g):\n",
    "  x = #escriba aca la expresión\n",
    "  return x\n",
    "\n",
    "#Posicion en y\n",
    "def pos_y(t, theta, alpha, v0, b, u,g):\n",
    "\n",
    "\n",
    "  y = #escriba aca la expresión\n",
    "  return y \n",
    "\n",
    "```\n",
    "\n",
    "2. Construya un diccionario con las claves \"X\", \"Y\", \"Tiempo\"\n",
    "\n",
    "3. Con el diccionario construya un data frame de pandas llamado df con los nombres de columnas \"X\", \"Y\", \"Tiempo\"  https://pandas.pydata.org/docs/reference/api/pandas.DataFrame.from_dict.html. Defina 1000 registros para el intervalo de tiempo elegido.\n",
    "\n",
    "\n",
    "4. Realice un gráfico de x como función del tiempo, de y como función del tiempo y la trayectoria de la partícula (df[\"X\"], df[\"tiempo\"], df[\"Y\"]).\n",
    "\n",
    "\n",
    "5. Determine el alcance máximo de la partícula, para ello tome  la solucion teórica con $y=0$, solucione numéricamente la ecuación para t y remplace este valor en la ecuación para x. Resuelvalo para $\\theta=45^{o}$.  \n",
    "\n",
    "6. Construya una  grafica del alcance máximo R como función de $\\theta$, varie $\\theta$  entre 10 y 90 grados cada 5 grados.\n",
    "\n",
    "7. Realice una interpolacion de R como función de theta.\n",
    "\n",
    "\n",
    "\n",
    "\n",
    "\n",
    "\n",
    "\n"
   ]
  },
  {
   "cell_type": "code",
   "execution_count": 7,
   "metadata": {
    "id": "HEEtRuug464L"
   },
   "outputs": [],
   "source": [
    "\n",
    "v0 = 60 #Velocidad en m/s\n",
    "alpha = np.pi #Angulo del viento\n",
    "theta = np.deg2rad(45) #Angulo de lanzamiento\n",
    "u = v0/2             #rapidez del viento\n",
    "b = 0.05             #Parametro de friccion \n",
    "g = 9.8                #Aceleracion de la gravedad m/s2\n",
    "\n",
    "Params = (alpha, v0, b, u, g)  #Parametros en tupla."
   ]
  },
  {
   "cell_type": "code",
   "execution_count": 8,
   "metadata": {
    "id": "okWfAokwJsaF"
   },
   "outputs": [],
   "source": [
    "#A continuación se definen las ecuaciones para X y Y.\n",
    "#Posicion en x\n",
    "def pos_x(t, theta, alpha, v0, b, u,g):\n",
    "  T1 = u * t * np.cos(alpha) #Termino 1\n",
    "  T2 = (1./b)*(v0*np.cos(theta) - u*np.cos(alpha) ) #Termino 2\n",
    "  T3 = (1 - np.e**(-b*t)) #Termino 3\n",
    "\n",
    "  return T1 + T2*T3 \n",
    "    \n",
    "\n",
    "#Posicion en y\n",
    "def pos_y(t, theta, alpha, v0, b, u,g):\n",
    "\n",
    "  T1 = (1./b)*(g/b + v0*np.sin(theta) - u*np.sin(alpha) ) #termino 1\n",
    "  T2 = (1 - np.e**(- b * t)) #termino 2\n",
    "  T3 = (g / b - u *  np.sin(alpha))*t #termino 3\n",
    "\n",
    "  return T1* T2 - T3\n",
    "  \n"
   ]
  },
  {
   "cell_type": "code",
   "execution_count": 18,
   "metadata": {
    "id": "e3eIRyW3K4l5"
   },
   "outputs": [
    {
     "data": {
      "text/plain": [
       "array([   0.        ,    8.32854088,   16.17543256,   23.54551569,\n",
       "         30.4435823 ,   36.8743762 ,   42.84259359,   48.35288342,\n",
       "         53.40984795,   58.01804317,   62.18197928,   65.90612117,\n",
       "         69.19488883,   72.05265786,   74.48375986,   76.4924829 ,\n",
       "         78.08307196,   79.25972937,   80.0266152 ,   80.38784772,\n",
       "         80.34750381,   79.9096194 ,   79.07818982,   77.85717026,\n",
       "         76.25047619,   74.26198367,   71.89552987,   69.15491334,\n",
       "         66.04389448,   62.56619591,   58.72550281,   54.52546334,\n",
       "         49.96968898,   45.06175494,   39.80520048,   34.20352928,\n",
       "         28.26020984,   21.97867577,   15.36232618,    8.41452603,\n",
       "          1.13860646,   -6.4621349 ,  -14.38443351,  -22.62505768,\n",
       "        -31.18080819,  -40.04851796,  -49.22505175,  -58.70730582,\n",
       "        -68.49220764,  -78.57671554,  -88.95781844,  -99.63253551,\n",
       "       -110.59791587, -121.85103832, -133.38901098, -145.20897108,\n",
       "       -157.3080846 , -169.68354598, -182.3325779 , -195.25243092,\n",
       "       -208.44038325, -221.89374044, -235.60983513, -249.58602676,\n",
       "       -263.81970133, -278.30827107, -293.04917425, -308.03987488,\n",
       "       -323.27786246, -338.7606517 , -354.48578232, -370.45081873,\n",
       "       -386.65334985, -403.09098881, -419.76137275, -436.66216253,\n",
       "       -453.79104254, -471.14572044, -488.72392691, -506.52341547,\n",
       "       -524.54196218, -542.77736548, -561.22744592, -579.89004596,\n",
       "       -598.76302974, -617.84428287, -637.13171222, -656.62324567,\n",
       "       -676.31683194, -696.21044038, -716.30206072, -736.58970291,\n",
       "       -757.0713969 , -777.74519244, -798.60915887, -819.66138495,\n",
       "       -840.89997863, -862.32306689, -883.92879553, -905.71532898])"
      ]
     },
     "execution_count": 18,
     "metadata": {},
     "output_type": "execute_result"
    }
   ],
   "source": []
  },
  {
   "cell_type": "code",
   "execution_count": null,
   "metadata": {
    "id": "M9MzgJa3wDfe"
   },
   "outputs": [],
   "source": [
    "#Grafica de las ecuaciones\n"
   ]
  },
  {
   "cell_type": "code",
   "execution_count": 9,
   "metadata": {
    "colab": {
     "base_uri": "https://localhost:8080/",
     "height": 419
    },
    "executionInfo": {
     "elapsed": 211,
     "status": "ok",
     "timestamp": 1629059884053,
     "user": {
      "displayName": "JHON WILLINGTON LÓPEZ SEPULVEDA",
      "photoUrl": "",
      "userId": "16091744401361911024"
     },
     "user_tz": 300
    },
    "id": "Vf17m2ehLB6F",
    "outputId": "063a2cd9-3908-46aa-c109-b436082783ac"
   },
   "outputs": [],
   "source": [
    "t = np.linspace(0, 20, 100) #Tiempo \n",
    "x = pos_x(t, theta, *Params)\n",
    "y = pos_y(t, theta, *Params) \n",
    "pos = { \"X\": x , \"Y\": y, \"Tiempo\": t }\n",
    "df = pd.DataFrame.from_dict(pos)\n"
   ]
  },
  {
   "cell_type": "code",
   "execution_count": null,
   "metadata": {
    "id": "7_-3ZT5QNFEN"
   },
   "outputs": [],
   "source": [
    "plt.subplot?"
   ]
  },
  {
   "cell_type": "code",
   "execution_count": 11,
   "metadata": {
    "colab": {
     "base_uri": "https://localhost:8080/",
     "height": 377
    },
    "executionInfo": {
     "elapsed": 610,
     "status": "ok",
     "timestamp": 1628534306400,
     "user": {
      "displayName": "HERNAN DAVID SALINAS JIMENEZ",
      "photoUrl": "https://lh3.googleusercontent.com/a-/AOh14Gi8f7Zp-Jh4qCultnlyTmrgXOPKGfL6Vyy5DWsZvyqYZsCt6xRgoNoomGDvFoGTWXsxS3mcZFUDcUHUM8PAhYuuWAw7jGZrrq1Wm-CiZvzj-oNzTu5GqfpU8WDWbikvt_DlyjAQBoT_WBYs__qQqOvH8erjb6pcwfvWaZn5sBRu6mlMx-htIp2jgjyePFBickmxMzEeBDOOvHmUXK66n9wBLo3TQFgEYPnvWXMCF_vo4oVXXVMrYkLXKSviqvhXQ17bzlW-pu4OFO6flGhE5s_LF2IPNV5MnDCUiVxk9YuiJ6xmRPQdci88VTLpsIWZAWq3jgZV-3xoiX97Bz_c6rhcNcaO4lLRDl2jU5VRFvJVt89gL2VtAajqFZfG0vaAYXj1nmUL_d-YxWIqZ7WYNLMu2aOAs8APxlPkhFZpzaqX_SlQqzFkDxz_chiycfe14wez1zz3OR1uWDFoLPWd_AIRRXNK4oo_mKBJ9K1GQ0qXW9C-fCTIaGoj8QVYAhwcNHbfII_1q1OxpJzCC7sHcFqZkOTYljVYugBTJQxF4VQnODIocPmIBk43ItgytVxQvYh0T1fYkXk5qkJ3g0qlUUHyPnSSxGIqg-AIneW_-1Ek9a77XpWmbEx2ZjhbHKl1Rk8QN9fSXjCAjVOzr9iu8S7ezQaddenZ1yY2IsBm5ajwrM2WFdNANA4FP-Tmg_MlwSFY59wMbj7uOvSW3l48vMLwoPVi5DABgSyWJWF3LerL8JeeUw-lmfnFCWUcgciJy3vn1ts=s64",
      "userId": "00408651407692255291"
     },
     "user_tz": 300
    },
    "id": "oFxst287Lnjp",
    "outputId": "2d780c3d-793d-4e89-9208-b0ada133abf6"
   },
   "outputs": [
    {
     "data": {
      "image/png": "[encoded data removed]",
      "text/plain": [
       "<Figure size 720x396 with 2 Axes>"
      ]
     },
     "metadata": {
      "needs_background": "light"
     },
     "output_type": "display_data"
    }
   ],
   "source": [
    "plt.figure(figsize=(10,5.5))\n",
    "plt.subplot(121)\n",
    "plt.plot(df[\"Tiempo\"], df[\"X\"], label=\"pos_x\") \n",
    "plt.plot(df[\"Tiempo\"], df[\"Y\"], label=\"pos_y\")\n",
    "plt.xlabel(\"t(s)\")\n",
    "plt.ylabel(\"Posicion(m)\")\n",
    "plt.grid()\n",
    "plt.legend()\n",
    "plt.title(\"Theta = \" + str(\"%.3lf\"%theta))\n",
    "#plt.show()\n",
    "\n",
    "\n",
    "plt.subplot(122)\n",
    "\n",
    "plt.plot(df[\"X\"], df[\"Y\"], label=\"pos_x\") \n",
    "plt.xlabel(\"x(m)\")\n",
    "plt.ylabel(\"y(m)\")\n",
    "plt.legend()\n",
    "plt.title(\"Theta = \" + str(\"%.3lf\"%theta))\n",
    "plt.grid()\n",
    "plt.show()"
   ]
  },
  {
   "cell_type": "code",
   "execution_count": 12,
   "metadata": {
    "colab": {
     "base_uri": "https://localhost:8080/",
     "height": 295
    },
    "executionInfo": {
     "elapsed": 778,
     "status": "ok",
     "timestamp": 1628534156630,
     "user": {
      "displayName": "HERNAN DAVID SALINAS JIMENEZ",
      "photoUrl": "https://lh3.googleusercontent.com/a-/AOh14Gi8f7Zp-Jh4qCultnlyTmrgXOPKGfL6Vyy5DWsZvyqYZsCt6xRgoNoomGDvFoGTWXsxS3mcZFUDcUHUM8PAhYuuWAw7jGZrrq1Wm-CiZvzj-oNzTu5GqfpU8WDWbikvt_DlyjAQBoT_WBYs__qQqOvH8erjb6pcwfvWaZn5sBRu6mlMx-htIp2jgjyePFBickmxMzEeBDOOvHmUXK66n9wBLo3TQFgEYPnvWXMCF_vo4oVXXVMrYkLXKSviqvhXQ17bzlW-pu4OFO6flGhE5s_LF2IPNV5MnDCUiVxk9YuiJ6xmRPQdci88VTLpsIWZAWq3jgZV-3xoiX97Bz_c6rhcNcaO4lLRDl2jU5VRFvJVt89gL2VtAajqFZfG0vaAYXj1nmUL_d-YxWIqZ7WYNLMu2aOAs8APxlPkhFZpzaqX_SlQqzFkDxz_chiycfe14wez1zz3OR1uWDFoLPWd_AIRRXNK4oo_mKBJ9K1GQ0qXW9C-fCTIaGoj8QVYAhwcNHbfII_1q1OxpJzCC7sHcFqZkOTYljVYugBTJQxF4VQnODIocPmIBk43ItgytVxQvYh0T1fYkXk5qkJ3g0qlUUHyPnSSxGIqg-AIneW_-1Ek9a77XpWmbEx2ZjhbHKl1Rk8QN9fSXjCAjVOzr9iu8S7ezQaddenZ1yY2IsBm5ajwrM2WFdNANA4FP-Tmg_MlwSFY59wMbj7uOvSW3l48vMLwoPVi5DABgSyWJWF3LerL8JeeUw-lmfnFCWUcgciJy3vn1ts=s64",
      "userId": "00408651407692255291"
     },
     "user_tz": 300
    },
    "id": "MADkZd-LMrY8",
    "outputId": "66348dd4-1c79-4e39-d8c6-723eb05fdac0",
    "scrolled": false
   },
   "outputs": [
    {
     "data": {
      "text/plain": [
       "Text(0, 0.5, 'Posicion(m)')"
      ]
     },
     "execution_count": 12,
     "metadata": {},
     "output_type": "execute_result"
    },
    {
     "data": {
      "image/png": "[encoded data removed]",
      "text/plain": [
       "<Figure size 720x396 with 1 Axes>"
      ]
     },
     "metadata": {
      "needs_background": "light"
     },
     "output_type": "display_data"
    }
   ],
   "source": [
    "plt.figure(figsize=(10,5.5))\n",
    "plt.plot(df[\"Tiempo\"], df[\"Y\"], label=\"pos_y\") #Gráfico para Y vs t\n",
    "plt.grid() \n",
    "plt.legend()\n",
    "plt.xlabel(\"t(s)\")\n",
    "plt.ylabel(\"Posicion(m)\")"
   ]
  },
  {
   "cell_type": "code",
   "execution_count": 13,
   "metadata": {},
   "outputs": [],
   "source": [
    "from scipy import optimize #Se usará optimize para encontrar la raíz\n"
   ]
  },
  {
   "cell_type": "code",
   "execution_count": 14,
   "metadata": {},
   "outputs": [],
   "source": [
    "f= lambda t: pos_y(t, theta, alpha, v0, b, u,g) #Función de y para encontrar la raíz.  "
   ]
  },
  {
   "cell_type": "code",
   "execution_count": 15,
   "metadata": {},
   "outputs": [
    {
     "data": {
      "text/plain": [
       "8.111627022095576"
      ]
     },
     "execution_count": 15,
     "metadata": {},
     "output_type": "execute_result"
    }
   ],
   "source": [
    "root = optimize.newton(f , 7) #Mirando el gráfico se mira que la raíz está cerca a 7.\n",
    "root #raíz"
   ]
  },
  {
   "cell_type": "code",
   "execution_count": 132,
   "metadata": {},
   "outputs": [],
   "source": []
  },
  {
   "cell_type": "code",
   "execution_count": 16,
   "metadata": {},
   "outputs": [
    {
     "name": "stdout",
     "output_type": "stream",
     "text": [
      "La distancia máxima es: 239.606149\n"
     ]
    }
   ],
   "source": [
    "t=root #En la siguiente ecuación se remplaza el t encontrado para encontrar la distancia máxima.\n",
    "T1 = u * t * np.cos(alpha) #Termino 1\n",
    "T2 = (1./b)*(v0*np.cos(theta) - u*np.cos(alpha) ) #Termino 2\n",
    "T3 = (1 - np.e**(-b*t)) #Termino 3\n",
    "\n",
    "x=T1 + T2*T3 \n",
    "print('La distancia máxima es: %f' %x)\n"
   ]
  },
  {
   "cell_type": "code",
   "execution_count": 20,
   "metadata": {},
   "outputs": [],
   "source": [
    "def R(t, thet, alpha, v0, b, u,g):\n",
    "  T1 = u * t * np.cos(alpha) #Termino 1\n",
    "  T2 = (1./b)*(v0*np.cos(thet) - u*np.cos(alpha) ) #Termino 2\n",
    "  T3 = (1 - np.e**(-b*t)) #Termino 3\n",
    "\n",
    "  return T1 + T2*T3 "
   ]
  },
  {
   "cell_type": "code",
   "execution_count": 146,
   "metadata": {},
   "outputs": [],
   "source": [
    "#g= lambda thet: R(t, thet, alpha, v0, b, u,g)"
   ]
  },
  {
   "cell_type": "code",
   "execution_count": 23,
   "metadata": {
    "scrolled": true
   },
   "outputs": [],
   "source": [
    "l=list(range(10,95,5)) #Lista para intervalo de theta dados.\n",
    "a=np.deg2rad(l)\n",
    "thet=np.array(a)\n",
    "y= R(t, thet, alpha, v0, b, u,g)"
   ]
  },
  {
   "cell_type": "code",
   "execution_count": 24,
   "metadata": {},
   "outputs": [
    {
     "data": {
      "text/html": [
       "<div>\n",
       "<style scoped>\n",
       "    .dataframe tbody tr th:only-of-type {\n",
       "        vertical-align: middle;\n",
       "    }\n",
       "\n",
       "    .dataframe tbody tr th {\n",
       "        vertical-align: top;\n",
       "    }\n",
       "\n",
       "    .dataframe thead th {\n",
       "        text-align: right;\n",
       "    }\n",
       "</style>\n",
       "<table border=\"1\" class=\"dataframe\">\n",
       "  <thead>\n",
       "    <tr style=\"text-align: right;\">\n",
       "      <th></th>\n",
       "      <th>R</th>\n",
       "      <th>Theta</th>\n",
       "    </tr>\n",
       "  </thead>\n",
       "  <tbody>\n",
       "    <tr>\n",
       "      <th>0</th>\n",
       "      <td>350.712361</td>\n",
       "      <td>0.174533</td>\n",
       "    </tr>\n",
       "    <tr>\n",
       "      <th>1</th>\n",
       "      <td>343.157835</td>\n",
       "      <td>0.261799</td>\n",
       "    </tr>\n",
       "    <tr>\n",
       "      <th>2</th>\n",
       "      <td>332.662113</td>\n",
       "      <td>0.349066</td>\n",
       "    </tr>\n",
       "    <tr>\n",
       "      <th>3</th>\n",
       "      <td>319.305075</td>\n",
       "      <td>0.436332</td>\n",
       "    </tr>\n",
       "    <tr>\n",
       "      <th>4</th>\n",
       "      <td>303.188376</td>\n",
       "      <td>0.523599</td>\n",
       "    </tr>\n",
       "    <tr>\n",
       "      <th>5</th>\n",
       "      <td>284.434674</td>\n",
       "      <td>0.610865</td>\n",
       "    </tr>\n",
       "    <tr>\n",
       "      <th>6</th>\n",
       "      <td>263.186695</td>\n",
       "      <td>0.698132</td>\n",
       "    </tr>\n",
       "    <tr>\n",
       "      <th>7</th>\n",
       "      <td>239.606149</td>\n",
       "      <td>0.785398</td>\n",
       "    </tr>\n",
       "    <tr>\n",
       "      <th>8</th>\n",
       "      <td>213.872500</td>\n",
       "      <td>0.872665</td>\n",
       "    </tr>\n",
       "    <tr>\n",
       "      <th>9</th>\n",
       "      <td>186.181595</td>\n",
       "      <td>0.959931</td>\n",
       "    </tr>\n",
       "    <tr>\n",
       "      <th>10</th>\n",
       "      <td>156.744178</td>\n",
       "      <td>1.047198</td>\n",
       "    </tr>\n",
       "    <tr>\n",
       "      <th>11</th>\n",
       "      <td>125.784287</td>\n",
       "      <td>1.134464</td>\n",
       "    </tr>\n",
       "    <tr>\n",
       "      <th>12</th>\n",
       "      <td>93.537545</td>\n",
       "      <td>1.221730</td>\n",
       "    </tr>\n",
       "    <tr>\n",
       "      <th>13</th>\n",
       "      <td>60.249369</td>\n",
       "      <td>1.308997</td>\n",
       "    </tr>\n",
       "    <tr>\n",
       "      <th>14</th>\n",
       "      <td>26.173102</td>\n",
       "      <td>1.396263</td>\n",
       "    </tr>\n",
       "    <tr>\n",
       "      <th>15</th>\n",
       "      <td>-8.431915</td>\n",
       "      <td>1.483530</td>\n",
       "    </tr>\n",
       "    <tr>\n",
       "      <th>16</th>\n",
       "      <td>-43.302316</td>\n",
       "      <td>1.570796</td>\n",
       "    </tr>\n",
       "  </tbody>\n",
       "</table>\n",
       "</div>"
      ],
      "text/plain": [
       "             R     Theta\n",
       "0   350.712361  0.174533\n",
       "1   343.157835  0.261799\n",
       "2   332.662113  0.349066\n",
       "3   319.305075  0.436332\n",
       "4   303.188376  0.523599\n",
       "5   284.434674  0.610865\n",
       "6   263.186695  0.698132\n",
       "7   239.606149  0.785398\n",
       "8   213.872500  0.872665\n",
       "9   186.181595  0.959931\n",
       "10  156.744178  1.047198\n",
       "11  125.784287  1.134464\n",
       "12   93.537545  1.221730\n",
       "13   60.249369  1.308997\n",
       "14   26.173102  1.396263\n",
       "15   -8.431915  1.483530\n",
       "16  -43.302316  1.570796"
      ]
     },
     "execution_count": 24,
     "metadata": {},
     "output_type": "execute_result"
    }
   ],
   "source": [
    "p = { \"R(m)\": y , \"Theta(rad)\": thet } #Data frame de R valor máximo y theta.\n",
    "df = pd.DataFrame.from_dict(p)\n",
    "df"
   ]
  },
  {
   "cell_type": "code",
   "execution_count": 42,
   "metadata": {
    "scrolled": true
   },
   "outputs": [
    {
     "data": {
      "text/plain": [
       "Text(0, 0.5, 'Posicion(m)')"
      ]
     },
     "execution_count": 42,
     "metadata": {},
     "output_type": "execute_result"
    },
    {
     "data": {
      "image/png": "[encoded data removed]",
      "text/plain": [
       "<Figure size 720x396 with 1 Axes>"
      ]
     },
     "metadata": {
      "needs_background": "light"
     },
     "output_type": "display_data"
    }
   ],
   "source": [
    "plt.figure(figsize=(10,5.5))\n",
    "plt.plot(df[\"Theta\"], df[\"R\"], label=\"R vs Theta\") #Gráfico para Y vs t\n",
    "plt.grid() \n",
    "plt.legend()\n",
    "plt.xlabel(\"Theta(rad)\")\n",
    "plt.ylabel(\"Posicion(m)\")"
   ]
  },
  {
   "cell_type": "code",
   "execution_count": 27,
   "metadata": {},
   "outputs": [],
   "source": [
    "from scipy.interpolate import lagrange #Se importa Lagrange \n",
    "y= R(t, thet, alpha, v0, b, u,g)\n",
    "l=list(range(10,95,5))\n",
    "a=np.deg2rad(l)\n",
    "thet=np.array(a)b\n",
    "poly= lagrange(thet, y) #Se usa la interpolación de Lagrange"
   ]
  },
  {
   "cell_type": "code",
   "execution_count": 32,
   "metadata": {},
   "outputs": [],
   "source": [
    "x=np.linspace(0,2,10)"
   ]
  },
  {
   "cell_type": "code",
   "execution_count": 37,
   "metadata": {},
   "outputs": [
    {
     "data": {
      "text/plain": [
       "array([ 356.79067294,  346.95242097,  317.92148471,  271.12520324,\n",
       "        208.86207593,  134.17940798,   50.69054991,  -37.70155509,\n",
       "       -127.24097453, -214.97049802])"
      ]
     },
     "execution_count": 37,
     "metadata": {},
     "output_type": "execute_result"
    }
   ],
   "source": [
    "poly(x)"
   ]
  },
  {
   "cell_type": "code",
   "execution_count": 43,
   "metadata": {},
   "outputs": [
    {
     "data": {
      "text/plain": [
       "Text(0.5, 1.0, 'La línea indica el polinomio de interpolación')"
      ]
     },
     "execution_count": 43,
     "metadata": {},
     "output_type": "execute_result"
    },
    {
     "data": {
      "image/png": "[encoded data removed]",
      "text/plain": [
       "<Figure size 432x288 with 1 Axes>"
      ]
     },
     "metadata": {
      "needs_background": "light"
     },
     "output_type": "display_data"
    }
   ],
   "source": [
    "plt.plot(df[\"Theta\"], df[\"R\"], \"ro\",label=\"R en funcón de theta.\") #Gráfica del R en función de theta\n",
    "plt.plot(x, poly(x), \"b-\",label=\"Interpolación de R en función de theta.\") #Gráfico para la interpolación de R como función de theta.\n",
    "plt.xlabel(\"Theta(rad)\")\n",
    "plt.ylabel(\"R(m)\")\n",
    "plt.grid()\n",
    "plt.legend()\n",
    "plt.title(\"La línea indica el polinomio de interpolación\")\n"
   ]
  }
 ],
 "metadata": {
  "colab": {
   "name": "Sesion09_RepasoRaices.ipynb",
   "provenance": []
  },
  "kernelspec": {
   "display_name": "Python 3",
   "language": "python",
   "name": "python3"
  },
  "language_info": {
   "codemirror_mode": {
    "name": "ipython",
    "version": 3
   },
   "file_extension": ".py",
   "mimetype": "text/x-python",
   "name": "python",
   "nbconvert_exporter": "python",
   "pygments_lexer": "ipython3",
   "version": "3.8.5"
  }
 },
 "nbformat": 4,
 "nbformat_minor": 1
}
